{
  "nbformat": 4,
  "nbformat_minor": 0,
  "metadata": {
    "colab": {
      "name": "Untitled6.ipynb",
      "provenance": [],
      "authorship_tag": "ABX9TyOpOBFFlj7PXIz2olm0CL20",
      "include_colab_link": true
    },
    "kernelspec": {
      "name": "python3",
      "display_name": "Python 3"
    },
    "language_info": {
      "name": "python"
    }
  },
  "cells": [
    {
      "cell_type": "markdown",
      "metadata": {
        "id": "view-in-github",
        "colab_type": "text"
      },
      "source": [
        "<a href=\"https://colab.research.google.com/github/Yulian-21/LabPy-6/blob/master/Untitled6.ipynb\" target=\"_parent\"><img src=\"https://colab.research.google.com/assets/colab-badge.svg\" alt=\"Open In Colab\"/></a>"
      ]
    },
    {
      "cell_type": "code",
      "execution_count": 1,
      "metadata": {
        "colab": {
          "base_uri": "https://localhost:8080/",
          "height": 318
        },
        "id": "AhzUTop0_5o-",
        "outputId": "edd982d0-98c1-479b-cdee-ed5a6201e6ec"
      },
      "outputs": [
        {
          "output_type": "stream",
          "name": "stdout",
          "text": [
            "[0 0] 1.171001480960712e-07\n",
            "[0 1] 0.004041395967845494\n",
            "[1 0] 0.004075693762849937\n",
            "[1 1] 0.9929977048771936\n"
          ]
        },
        {
          "output_type": "display_data",
          "data": {
            "image/png": "[encoded data removed]",
            "text/plain": [
              "<Figure size 432x288 with 1 Axes>"
            ]
          },
          "metadata": {
            "needs_background": "light"
          }
        }
      ],
      "source": [
        "import numpy as np\n",
        "import math\n",
        "from matplotlib import pyplot as plt\n",
        "\n",
        "def sigmoid(x):\n",
        "    return 1.0 / (1.0 + np.exp(-x))\n",
        "\n",
        "\n",
        "def sigmoid_prime(x):\n",
        "    return sigmoid(x) * (1.0 - sigmoid(x))\n",
        "\n",
        "\n",
        "class NeuralNetwork:\n",
        "\n",
        "    def __init__(self, layers, alpha=0.001):\n",
        "        self.activation = sigmoid\n",
        "        self.activation_prime = sigmoid_prime\n",
        "        self.weights = []\n",
        "        # for i in range(1, len(layers) - 1):\n",
        "        #     r = 2 * np.random.random((layers[i - 1] + 1, layers[i] + 1)) - 1\n",
        "        #     self.weights.append(r)\n",
        "        i = 0\n",
        "        r = 2 * np.random.random()\n",
        "        self.weights.append(r)\n",
        "        self.alpha = alpha\n",
        "        self.epochs = 0\n",
        "\n",
        "    def fit(self, X, y, learning_rate=0.2, epochs=100000):\n",
        "        ones = np.atleast_2d(np.ones(X.shape[0]))\n",
        "        X = np.concatenate((ones.T, X), axis=1)\n",
        "\n",
        "        for k in range(epochs):\n",
        "        # while True:\n",
        "            self.epochs += 1\n",
        "            i = np.random.randint(X.shape[0])\n",
        "            a = [X[i]]\n",
        "\n",
        "            for l in range(len(self.weights)):\n",
        "                dot_value = np.dot(a[l], self.weights[l])\n",
        "                activation = self.activation(dot_value)\n",
        "                a.append(activation)\n",
        "            error = y[i] - a[-1]\n",
        "            deltas = [error * self.activation_prime(a[-1])]\n",
        "\n",
        "            for l in range(len(a) - 2, 0, -1):\n",
        "                deltas.append(deltas[-1].dot(self.weights[l].T) * self.activation_prime(a[l]))\n",
        "\n",
        "            deltas.reverse()\n",
        "            delta_max = 10000\n",
        "            for i in range(len(self.weights)):\n",
        "                layer = np.atleast_2d(a[i])\n",
        "                delta = np.atleast_2d(deltas[i])\n",
        "                delta_max = max(delta[-1])\n",
        "\n",
        "                self.weights[i] += learning_rate * layer.T.dot(delta)\n",
        "\n",
        "        # if abs(delta_max) < self.alpha:\n",
        "            #     print(\"epochs\", self.epochs)\n",
        "            #     break\n",
        "\n",
        "    def predict(self, x):\n",
        "        a = np.concatenate((np.ones(1).T, np.array(x)))\n",
        "        for l in range(0, len(self.weights)):\n",
        "            a = self.activation(np.dot(a, self.weights[l]))\n",
        "        return a\n",
        "\n",
        "def function(weights, x):\n",
        "    slope = -(weights[0] / weights[2]) / (weights[0] / weights[1])\n",
        "    intercept = -weights[0] / weights[2]\n",
        "\n",
        "    # y =mx+c, m is slope and c is intercept\n",
        "    y = (slope * x) + intercept\n",
        "    return y\n",
        "\n",
        "\n",
        "def make_ploat(weight, dots, value):\n",
        "    x = []\n",
        "    y = []\n",
        "    for i in range(-5, 5):\n",
        "        x.append(i)\n",
        "        y.append(function(weight, i))\n",
        "\n",
        "    x_dots = []\n",
        "    y_dots = []\n",
        "\n",
        "    xx_dots = []\n",
        "    yy_dots = []\n",
        "    for i, d in enumerate(dots):\n",
        "        if value[i] > 0.5:\n",
        "            xx_dots.append(d[0])\n",
        "            yy_dots.append(d[1])\n",
        "        else:\n",
        "            x_dots.append(d[0])\n",
        "            y_dots.append(d[1])\n",
        "\n",
        "    # plt.subplot(313)\n",
        "\n",
        "    fig = plt.figure()\n",
        "    ax = fig.add_subplot(1, 1, 1)\n",
        "    ax.spines['left'].set_position('center')\n",
        "    ax.spines['bottom'].set_position('center')\n",
        "    ax.spines['right'].set_color('none')\n",
        "    ax.spines['top'].set_color('none')\n",
        "    # plt.subplot(414)\n",
        "    plt.plot(x, y)\n",
        "    plt.plot(x_dots, y_dots, 'go', label='marker only', c=\"r\")\n",
        "    plt.plot(xx_dots, yy_dots, 'go', label='marker only', c=\"b\")\n",
        "    plt.show()\n",
        "\n",
        "if __name__ == '__main__':\n",
        "\n",
        "    nn = NeuralNetwork([2, 2, 1])\n",
        "    X = np.array([[0, 0],\n",
        "                  [0, 1],\n",
        "                  [1, 0],\n",
        "                  [1, 1]])\n",
        "    y = np.array([0, 0, 0, 1])\n",
        "    nn.fit(X, y)\n",
        "    X = np.array([[0, 0],\n",
        "                  [0, 1],\n",
        "                  [1, 0],\n",
        "                  [1, 1]])\n",
        "\n",
        "    predicrion = []\n",
        "    for e in X:\n",
        "        predicrion.append(nn.predict(e)[0])\n",
        "        print(e, predicrion[-1])\n",
        "\n",
        "    weights = []\n",
        "    for w in nn.weights[-1]:\n",
        "        weights.append(w[0])\n",
        "\n",
        "\n",
        "    make_ploat(weights, X, predicrion)"
      ]
    }
  ]
}